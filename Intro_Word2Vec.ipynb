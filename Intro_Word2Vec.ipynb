{
  "nbformat": 4,
  "nbformat_minor": 0,
  "metadata": {
    "colab": {
      "name": "Intro Word2Vec.ipynb",
      "provenance": [],
      "collapsed_sections": [],
      "machine_shape": "hm",
      "include_colab_link": true
    },
    "kernelspec": {
      "name": "python3",
      "display_name": "Python 3"
    },
    "accelerator": "TPU"
  },
  "cells": [
    {
      "cell_type": "markdown",
      "metadata": {
        "id": "view-in-github",
        "colab_type": "text"
      },
      "source": [
        "<a href=\"https://colab.research.google.com/github/DataHustler/palagic/blob/master/Intro_Word2Vec.ipynb\" target=\"_parent\"><img src=\"https://colab.research.google.com/assets/colab-badge.svg\" alt=\"Open In Colab\"/></a>"
      ]
    },
    {
      "cell_type": "code",
      "metadata": {
        "id": "C7bh7PAQce1O",
        "colab_type": "code",
        "outputId": "c9cb9b1f-521b-4650-ad04-9a506a386903",
        "colab": {
          "base_uri": "https://localhost:8080/",
          "height": 173
        }
      },
      "source": [
        "# Authenticate with Google so we can access GCP resources\n",
        "\n",
        "from google.colab import auth\n",
        "auth.authenticate_user()\n",
        "project_id = 'gmt-dev-environment'\n",
        "!gcloud config set project {project_id}\n",
        "bucket_name = 'gmt-prop-data'"
      ],
      "execution_count": 0,
      "outputs": [
        {
          "output_type": "stream",
          "text": [
            "WARNING:tensorflow:\n",
            "The TensorFlow contrib module will not be included in TensorFlow 2.0.\n",
            "For more information, please see:\n",
            "  * https://github.com/tensorflow/community/blob/master/rfcs/20180907-contrib-sunset.md\n",
            "  * https://github.com/tensorflow/addons\n",
            "  * https://github.com/tensorflow/io (for I/O related ops)\n",
            "If you depend on functionality not listed there, please file an issue.\n",
            "\n",
            "Updated property [core/project].\n"
          ],
          "name": "stdout"
        }
      ]
    },
    {
      "cell_type": "code",
      "metadata": {
        "id": "qDbebc-gpL6n",
        "colab_type": "code",
        "colab": {
          "base_uri": "https://localhost:8080/",
          "height": 272
        },
        "outputId": "3e2ced18-4f32-4995-ecc4-c9b2874ad744"
      },
      "source": [
        "# copies gensim-data cache from gcs\n",
        "!gsutil -m cp -r gs://gmt-prop-models/gensim-data ~/"
      ],
      "execution_count": 2,
      "outputs": [
        {
          "output_type": "stream",
          "text": [
            "Copying gs://gmt-prop-models/gensim-data/glove-wiki-gigaword-100/__init__.py...\n",
            "Copying gs://gmt-prop-models/gensim-data/glove-wiki-gigaword-100/glove-wiki-gigaword-100.gz...\n",
            "Copying gs://gmt-prop-models/gensim-data/glove-wiki-gigaword-200/__init__.py...\n",
            "Copying gs://gmt-prop-models/gensim-data/glove-wiki-gigaword-200/glove-wiki-gigaword-200.gz...\n",
            "/ [0/13 files][    0.0 B/  2.6 GiB]   0% Done                                   \r/ [0/13 files][    0.0 B/  2.6 GiB]   0% Done                                   \rCopying gs://gmt-prop-models/gensim-data/glove-wiki-gigaword-300/__init__.py...\n",
            "/ [0/13 files][    0.0 B/  2.6 GiB]   0% Done                                   \r/ [0/13 files][    0.0 B/  2.6 GiB]   0% Done                                   \r/ [0/13 files][    0.0 B/  2.6 GiB]   0% Done                                   \rCopying gs://gmt-prop-models/gensim-data/glove-wiki-gigaword-300/glove-wiki-gigaword-300.gz...\n",
            "/ [0/13 files][    0.0 B/  2.6 GiB]   0% Done                                   \rCopying gs://gmt-prop-models/gensim-data/glove-wiki-gigaword-50/__init__.py...\n",
            "/ [0/13 files][    0.0 B/  2.6 GiB]   0% Done                                   \rCopying gs://gmt-prop-models/gensim-data/glove-wiki-gigaword-50/glove-wiki-gigaword-50.gz...\n",
            "Copying gs://gmt-prop-models/gensim-data/word2vec-google-news-300/__init__.py...\n",
            "Copying gs://gmt-prop-models/gensim-data/word2vec-google-news-300/word2vec-google-news-300.gz...\n",
            "/ [0/13 files][    0.0 B/  2.6 GiB]   0% Done                                   \r/ [0/13 files][    0.0 B/  2.6 GiB]   0% Done                                   \r/ [0/13 files][    0.0 B/  2.6 GiB]   0% Done                                   \rCopying gs://gmt-prop-models/gensim-data/word2vec-ruscorpora-300/__init__.py...\n",
            "/ [0/13 files][    0.0 B/  2.6 GiB]   0% Done                                   \r/ [1/13 files][  268.0 B/  2.6 GiB]   0% Done                                   \rCopying gs://gmt-prop-models/gensim-data/word2vec-ruscorpora-300/__pycache__/__init__.cpython-36.pyc...\n",
            "Copying gs://gmt-prop-models/gensim-data/word2vec-ruscorpora-300/word2vec-ruscorpora-300.gz...\n",
            "/ [13/13 files][  2.6 GiB/  2.6 GiB] 100% Done  24.1 MiB/s ETA 00:00:00         \n",
            "Operation completed over 13 objects/2.6 GiB.                                     \n"
          ],
          "name": "stdout"
        }
      ]
    },
    {
      "cell_type": "code",
      "metadata": {
        "id": "zegdZYvzbfgI",
        "colab_type": "code",
        "outputId": "80bfd30d-7c55-41f2-8e76-0332b7e01805",
        "colab": {
          "base_uri": "https://localhost:8080/",
          "height": 367
        }
      },
      "source": [
        "# copies gensim-data cache from gcs\n",
        "!gsutil -m cp -r gs://gmt-prop-models/gensim-data ~/\n",
        "\n",
        "# copies PD-PROP Postural Instability data\n",
        "#!gsutil cp gs://gmt-prop-data/* ."
      ],
      "execution_count": 0,
      "outputs": [
        {
          "output_type": "stream",
          "text": [
            "Copying gs://gmt-prop-models/gensim-data/glove-wiki-gigaword-100/__init__.py...\n",
            "Copying gs://gmt-prop-models/gensim-data/glove-wiki-gigaword-100/glove-wiki-gigaword-100.gz...\n",
            "/ [0 files][    0.0 B/  268.0 B]                                                \r/ [0 files][    0.0 B/128.1 MiB]                                                \rCopying gs://gmt-prop-models/gensim-data/glove-wiki-gigaword-200/__init__.py...\n",
            "/ [0/13 files][    0.0 B/  2.6 GiB]   0% Done                                   \rCopying gs://gmt-prop-models/gensim-data/glove-wiki-gigaword-300/__init__.py...\n",
            "/ [0/13 files][    0.0 B/  2.6 GiB]   0% Done                                   \rCopying gs://gmt-prop-models/gensim-data/glove-wiki-gigaword-200/glove-wiki-gigaword-200.gz...\n",
            "/ [0/13 files][    0.0 B/  2.6 GiB]   0% Done                                   \rCopying gs://gmt-prop-models/gensim-data/glove-wiki-gigaword-300/glove-wiki-gigaword-300.gz...\n",
            "Copying gs://gmt-prop-models/gensim-data/glove-wiki-gigaword-50/__init__.py...\n",
            "Copying gs://gmt-prop-models/gensim-data/glove-wiki-gigaword-50/glove-wiki-gigaword-50.gz...\n",
            "/ [0/13 files][    0.0 B/  2.6 GiB]   0% Done                                   \r/ [0/13 files][    0.0 B/  2.6 GiB]   0% Done                                   \rCopying gs://gmt-prop-models/gensim-data/word2vec-google-news-300/__init__.py...\n",
            "Copying gs://gmt-prop-models/gensim-data/word2vec-google-news-300/word2vec-google-news-300.gz...\n",
            "/ [0/13 files][    0.0 B/  2.6 GiB]   0% Done                                   \rCopying gs://gmt-prop-models/gensim-data/word2vec-ruscorpora-300/__init__.py...\n",
            "/ [0/13 files][    0.0 B/  2.6 GiB]   0% Done                                   \rCopying gs://gmt-prop-models/gensim-data/word2vec-ruscorpora-300/__pycache__/__init__.cpython-36.pyc...\n",
            "Copying gs://gmt-prop-models/gensim-data/word2vec-ruscorpora-300/word2vec-ruscorpora-300.gz...\n",
            "\\ [13/13 files][  2.6 GiB/  2.6 GiB] 100% Done  41.3 MiB/s ETA 00:00:00         \n",
            "Operation completed over 13 objects/2.6 GiB.                                     \n",
            "Copying gs://gmt-prop-data/Postural_Instability_Labelled_Counted.csv...\n",
            "Copying gs://gmt-prop-data/Postural_Instability_Labelled_MC_Internship.xlsx...\n",
            "- [2 files][ 32.7 KiB/ 32.7 KiB]                                                \n",
            "Operation completed over 2 objects/32.7 KiB.                                     \n"
          ],
          "name": "stdout"
        }
      ]
    },
    {
      "cell_type": "code",
      "metadata": {
        "id": "BfA5dkMjMLx2",
        "colab_type": "code",
        "colab": {}
      },
      "source": [
        "import gensim.downloader as api\n",
        "from gensim.models.word2vec import Word2Vec\n",
        "import pandas as pd\n",
        "import numpy as np"
      ],
      "execution_count": 0,
      "outputs": []
    },
    {
      "cell_type": "code",
      "metadata": {
        "id": "9Jul4BVmxwqA",
        "colab_type": "code",
        "outputId": "383b42ac-b3a2-4427-88b2-023c3f125f6a",
        "colab": {
          "base_uri": "https://localhost:8080/",
          "height": 232
        }
      },
      "source": [
        "# load models\n",
        "\n",
        "m100 = api.load('glove-wiki-gigaword-100')\n",
        "m200 = api.load('glove-wiki-gigaword-200')\n",
        "m300 = api.load('glove-wiki-gigaword-300')\n",
        "w300 = api.load('word2vec-google-news-300')\n"
      ],
      "execution_count": 1,
      "outputs": [
        {
          "output_type": "error",
          "ename": "NameError",
          "evalue": "ignored",
          "traceback": [
            "\u001b[0;31m---------------------------------------------------------------------------\u001b[0m",
            "\u001b[0;31mNameError\u001b[0m                                 Traceback (most recent call last)",
            "\u001b[0;32m<ipython-input-1-46a57c85be39>\u001b[0m in \u001b[0;36m<module>\u001b[0;34m()\u001b[0m\n\u001b[1;32m      1\u001b[0m \u001b[0;34m\u001b[0m\u001b[0m\n\u001b[0;32m----> 2\u001b[0;31m \u001b[0mm100\u001b[0m \u001b[0;34m=\u001b[0m \u001b[0mapi\u001b[0m\u001b[0;34m.\u001b[0m\u001b[0mload\u001b[0m\u001b[0;34m(\u001b[0m\u001b[0;34m'glove-wiki-gigaword-100'\u001b[0m\u001b[0;34m)\u001b[0m\u001b[0;34m\u001b[0m\u001b[0;34m\u001b[0m\u001b[0m\n\u001b[0m\u001b[1;32m      3\u001b[0m \u001b[0mm200\u001b[0m \u001b[0;34m=\u001b[0m \u001b[0mapi\u001b[0m\u001b[0;34m.\u001b[0m\u001b[0mload\u001b[0m\u001b[0;34m(\u001b[0m\u001b[0;34m'glove-wiki-gigaword-200'\u001b[0m\u001b[0;34m)\u001b[0m\u001b[0;34m\u001b[0m\u001b[0;34m\u001b[0m\u001b[0m\n\u001b[1;32m      4\u001b[0m \u001b[0mm300\u001b[0m \u001b[0;34m=\u001b[0m \u001b[0mapi\u001b[0m\u001b[0;34m.\u001b[0m\u001b[0mload\u001b[0m\u001b[0;34m(\u001b[0m\u001b[0;34m'glove-wiki-gigaword-300'\u001b[0m\u001b[0;34m)\u001b[0m\u001b[0;34m\u001b[0m\u001b[0;34m\u001b[0m\u001b[0m\n\u001b[1;32m      5\u001b[0m \u001b[0mw300\u001b[0m \u001b[0;34m=\u001b[0m \u001b[0mapi\u001b[0m\u001b[0;34m.\u001b[0m\u001b[0mload\u001b[0m\u001b[0;34m(\u001b[0m\u001b[0;34m'word2vec-google-news-300'\u001b[0m\u001b[0;34m)\u001b[0m\u001b[0;34m\u001b[0m\u001b[0;34m\u001b[0m\u001b[0m\n",
            "\u001b[0;31mNameError\u001b[0m: name 'api' is not defined"
          ]
        }
      ]
    },
    {
      "cell_type": "code",
      "metadata": {
        "id": "rZm0Kg6vMcKW",
        "colab_type": "code",
        "colab": {}
      },
      "source": [
        "m = w300"
      ],
      "execution_count": 0,
      "outputs": []
    },
    {
      "cell_type": "code",
      "metadata": {
        "id": "8RQ6X5b6awtI",
        "colab_type": "code",
        "outputId": "f5730089-2e40-432d-af0b-e15e0b84aa83",
        "colab": {
          "base_uri": "https://localhost:8080/",
          "height": 1000
        }
      },
      "source": [
        "m['tremor']-m['earthquake']"
      ],
      "execution_count": 0,
      "outputs": [
        {
          "output_type": "execute_result",
          "data": {
            "text/plain": [
              "array([-0.07519531, -0.34326172, -0.125     , -0.40234375,  0.05664062,\n",
              "       -0.11376953, -0.08691406,  0.14453125, -0.46875   ,  0.00292969,\n",
              "       -0.16357422, -0.2788086 , -0.17773438,  0.41601562,  0.10888672,\n",
              "        0.15332031, -0.0847168 ,  0.06445312,  0.21606445, -0.2919922 ,\n",
              "        0.00964355, -0.25439453, -0.05078125, -0.03051758, -0.2291565 ,\n",
              "        0.13183594, -0.09423828,  0.55371094, -0.0357666 , -0.046875  ,\n",
              "       -0.09179688, -0.1171875 ,  0.16601562, -0.23242188, -0.07678223,\n",
              "       -0.13574219, -0.20507812,  0.37963867, -0.18151855, -0.22851562,\n",
              "       -0.13800049, -0.4482422 , -0.00195312,  0.12109375, -0.15527344,\n",
              "        0.02392578,  0.07470703, -0.05664062, -0.13964844, -0.00878906,\n",
              "       -0.12890625,  0.00488281,  0.02575684, -0.15478516,  0.32128906,\n",
              "        0.10351562, -0.05322266,  0.14160156, -0.2890625 ,  0.22528076,\n",
              "       -0.06542969,  0.15698242,  0.17547607, -0.12109375, -0.00878906,\n",
              "        0.04003906, -0.14147949,  0.15142822, -0.12792969, -0.13183594,\n",
              "        0.08105469,  0.        ,  0.42089844, -0.09289551, -0.04101562,\n",
              "        0.07519531,  0.08691406, -0.01074219,  0.08392334,  0.45214844,\n",
              "        0.1772461 , -0.10238647,  0.3955078 , -0.10229492,  0.09570312,\n",
              "        0.03515625,  0.16955566, -0.21142578,  0.21191406, -0.140625  ,\n",
              "        0.04101562,  0.00976562,  0.12475586,  0.16796875, -0.10546875,\n",
              "        0.00097656,  0.12402344,  0.046875  , -0.24658203, -0.1541748 ,\n",
              "        0.20471191,  0.00308228,  0.08398438,  0.07714844,  0.265625  ,\n",
              "       -0.10839844,  0.18554688,  0.23486328,  0.29003906, -0.30158997,\n",
              "        0.31445312, -0.00500488,  0.01184082, -0.2783203 ,  0.13549805,\n",
              "       -0.26000977, -0.22583008,  0.22949219, -0.24072266, -0.35839844,\n",
              "       -0.1171875 ,  0.20240784, -0.08496094,  0.12109375, -0.12158203,\n",
              "       -0.23071289,  0.1184082 , -0.16308594, -0.06396484, -0.05175781,\n",
              "       -0.23144531,  0.30908203,  0.39648438, -0.09179688, -0.05554199,\n",
              "       -0.16699219,  0.00244141,  0.11727905, -0.07617188, -0.10644531,\n",
              "       -0.11413574, -0.046875  ,  0.06079102, -0.01025391, -0.02148438,\n",
              "        0.28027344, -0.00976562,  0.17138672,  0.03515625, -0.05273438,\n",
              "        0.07714844, -0.09179688, -0.24023438,  0.19873047, -0.08911133,\n",
              "        0.09362793, -0.4033203 , -0.28222656, -0.04492188, -0.14355469,\n",
              "        0.2475586 ,  0.00195312, -0.08612061, -0.02490234, -0.18017578,\n",
              "        0.07125854,  0.10546875,  0.20214844, -0.10253906,  0.09222412,\n",
              "        0.21142578,  0.10449219, -0.09667969,  0.11026001, -0.4140625 ,\n",
              "       -0.31518555, -0.01220703, -0.29882812, -0.1184082 ,  0.04492188,\n",
              "        0.06542969,  0.18359375,  0.05371094, -0.08398438, -0.32861328,\n",
              "        0.16870117,  0.00390625,  0.13903809, -0.03430176, -0.10595703,\n",
              "       -0.31323242, -0.18457031, -0.12573242,  0.22460938,  0.07714844,\n",
              "        0.05078125, -0.04101562,  0.20574951,  0.05322266,  0.10351562,\n",
              "        0.22216797, -0.00585938,  0.09179688,  0.27807617,  0.15668106,\n",
              "       -0.2055664 , -0.16091919,  0.11877441,  0.22070312, -0.21801758,\n",
              "        0.04296875,  0.00878906, -0.03515625,  0.25341797,  0.0625    ,\n",
              "       -0.2861328 , -0.20678711, -0.0168457 ,  0.06152344,  0.015625  ,\n",
              "        0.30029297,  0.0579834 ,  0.31591797,  0.09326172, -0.10974121,\n",
              "        0.14111328,  0.3515625 , -0.15625   , -0.18066406,  0.17041016,\n",
              "        0.3305664 , -0.4091797 ,  0.0390625 ,  0.22802734,  0.18762207,\n",
              "        0.0234375 , -0.28710938, -0.02050781, -0.08288574, -0.24731445,\n",
              "        0.07481384, -0.5073242 ,  0.05175781,  0.1875    ,  0.21972656,\n",
              "       -0.2783203 ,  0.02587891,  0.04949951,  0.0390625 ,  0.29296875,\n",
              "        0.21679688, -0.11047363,  0.10235596,  0.1550293 , -0.17773438,\n",
              "       -0.26171875, -0.41552734,  0.04394531,  0.08398438, -0.2767334 ,\n",
              "        0.10058594,  0.06835938, -0.140625  , -0.13195801, -0.078125  ,\n",
              "        0.1171875 ,  0.26489258, -0.14794922,  0.24853516, -0.0859375 ,\n",
              "        0.01953125, -0.06054688,  0.05078125, -0.30407715,  0.07324219,\n",
              "       -0.50097656, -0.15515137, -0.03515625,  0.15625   , -0.00976562,\n",
              "       -0.00585938,  0.02734375,  0.00439453,  0.06591797, -0.03613281,\n",
              "       -0.11914062,  0.20092773, -0.19091797, -0.24316406, -0.15332031,\n",
              "        0.01171875, -0.06542969,  0.1015625 , -0.37646484, -0.02050781,\n",
              "        0.08447266, -0.1171875 , -0.09375   ,  0.35839844,  0.19042969],\n",
              "      dtype=float32)"
            ]
          },
          "metadata": {
            "tags": []
          },
          "execution_count": 32
        }
      ]
    },
    {
      "cell_type": "code",
      "metadata": {
        "id": "ikNf2WEnfJYm",
        "colab_type": "code",
        "colab": {}
      },
      "source": [
        "# m.similar_by_vector(m['tremor']-m['earthquake']+m['parkinson']-m['disease'] + m['symptom'] + m['motor'])"
      ],
      "execution_count": 0,
      "outputs": []
    },
    {
      "cell_type": "code",
      "metadata": {
        "id": "AdkHETcGifEY",
        "colab_type": "code",
        "outputId": "605c303d-76e3-4e19-ed56-f489158a8f9c",
        "colab": {
          "base_uri": "https://localhost:8080/",
          "height": 245
        }
      },
      "source": [
        "w300.similar_by_word('parkinson')"
      ],
      "execution_count": 0,
      "outputs": [
        {
          "output_type": "stream",
          "text": [
            "/usr/local/lib/python3.6/dist-packages/gensim/matutils.py:737: FutureWarning: Conversion of the second argument of issubdtype from `int` to `np.signedinteger` is deprecated. In future, it will be treated as `np.int64 == np.dtype(int).type`.\n",
            "  if np.issubdtype(vec.dtype, np.int):\n"
          ],
          "name": "stderr"
        },
        {
          "output_type": "execute_result",
          "data": {
            "text/plain": [
              "[('mito', 0.6178811192512512),\n",
              " ('parkinson_disease', 0.6112131476402283),\n",
              " ('levaquin', 0.5974152088165283),\n",
              " ('tramadol_hcl', 0.5968979597091675),\n",
              " ('adhd', 0.593884289264679),\n",
              " ('zanaflex', 0.5927649140357971),\n",
              " ('alzheimer', 0.5919845104217529),\n",
              " ('nolvadex', 0.5871247053146362),\n",
              " ('ambien_cr', 0.5816102027893066),\n",
              " ('fosamax', 0.5811149477958679)]"
            ]
          },
          "metadata": {
            "tags": []
          },
          "execution_count": 35
        }
      ]
    },
    {
      "cell_type": "code",
      "metadata": {
        "id": "FRSBxAkrjPnO",
        "colab_type": "code",
        "outputId": "d71d041d-ff0a-46ca-d391-d2ae3dc742e1",
        "colab": {
          "base_uri": "https://localhost:8080/",
          "height": 245
        }
      },
      "source": [
        "m300.similar_by_word('parkinson')\n",
        "m300.similar_by_vector(m300['parkinson']+m300['symptoms'])"
      ],
      "execution_count": 0,
      "outputs": [
        {
          "output_type": "stream",
          "text": [
            "/usr/local/lib/python3.6/dist-packages/gensim/matutils.py:737: FutureWarning: Conversion of the second argument of issubdtype from `int` to `np.signedinteger` is deprecated. In future, it will be treated as `np.int64 == np.dtype(int).type`.\n",
            "  if np.issubdtype(vec.dtype, np.int):\n"
          ],
          "name": "stderr"
        },
        {
          "output_type": "execute_result",
          "data": {
            "text/plain": [
              "[('symptoms', 0.8825790286064148),\n",
              " ('parkinson', 0.8424837589263916),\n",
              " ('alzheimer', 0.7146292924880981),\n",
              " ('disease', 0.6685711145401001),\n",
              " ('dementia', 0.6592772603034973),\n",
              " ('illness', 0.6483340263366699),\n",
              " ('ailments', 0.6468825340270996),\n",
              " ('diagnosed', 0.627604067325592),\n",
              " ('schizophrenia', 0.6273716688156128),\n",
              " ('arthritis', 0.6240410804748535)]"
            ]
          },
          "metadata": {
            "tags": []
          },
          "execution_count": 38
        }
      ]
    },
    {
      "cell_type": "code",
      "metadata": {
        "id": "I6UJlMMSMlEA",
        "colab_type": "code",
        "outputId": "19fb3e1d-d357-4479-982d-2b739016c898",
        "colab": {
          "base_uri": "https://localhost:8080/",
          "height": 245
        }
      },
      "source": [
        "w300.similar_by_vector(m['tremor']-m['earthquake'])"
      ],
      "execution_count": 0,
      "outputs": [
        {
          "output_type": "stream",
          "text": [
            "/usr/local/lib/python3.6/dist-packages/gensim/matutils.py:737: FutureWarning: Conversion of the second argument of issubdtype from `int` to `np.signedinteger` is deprecated. In future, it will be treated as `np.int64 == np.dtype(int).type`.\n",
            "  if np.issubdtype(vec.dtype, np.int):\n"
          ],
          "name": "stderr"
        },
        {
          "output_type": "execute_result",
          "data": {
            "text/plain": [
              "[('tremor', 0.47016799449920654),\n",
              " ('tingling', 0.4231618642807007),\n",
              " ('tremors', 0.41246092319488525),\n",
              " ('twitching', 0.3670918643474579),\n",
              " ('numbness', 0.35852041840553284),\n",
              " ('palpitations', 0.35358303785324097),\n",
              " ('stinging_sensation', 0.3480321168899536),\n",
              " ('burning_sensation', 0.3477950692176819),\n",
              " ('tingle', 0.3459849953651428),\n",
              " ('jerking_movements', 0.3450072407722473)]"
            ]
          },
          "metadata": {
            "tags": []
          },
          "execution_count": 31
        }
      ]
    },
    {
      "cell_type": "code",
      "metadata": {
        "id": "LYPpL_Mw0jI0",
        "colab_type": "code",
        "colab": {}
      },
      "source": [
        "data = pd.read_csv('Postural_Instability_Labelled_Counted.csv')\n",
        "balance = data[data['1 - Balance'] >= 2]"
      ],
      "execution_count": 0,
      "outputs": []
    },
    {
      "cell_type": "code",
      "metadata": {
        "id": "D2g56UaK0qpV",
        "colab_type": "code",
        "colab": {}
      },
      "source": [
        "balance = data.iloc[:, [0,5]]"
      ],
      "execution_count": 0,
      "outputs": []
    },
    {
      "cell_type": "code",
      "metadata": {
        "id": "KfpRr3dYCvTM",
        "colab_type": "code",
        "colab": {}
      },
      "source": [
        "from sklearn.pipeline import Pipeline\n",
        "from sklearn.ensemble import ExtraTreesClassifier\n",
        "from sklearn.svm import SVC\n",
        "from sklearn.ensemble import RandomForestClassifier\n",
        "from sklearn.metrics import confusion_matrix\n",
        "from sklearn.model_selection import cross_val_score\n",
        "import sklearn.preprocessing as pp\n",
        "from sklearn.model_selection import ShuffleSplit\n"
      ],
      "execution_count": 0,
      "outputs": []
    },
    {
      "cell_type": "code",
      "metadata": {
        "id": "IZuoMVb0DGIx",
        "colab_type": "code",
        "colab": {}
      },
      "source": [
        "y = pp.binarize(balance[['1 - Balance']], 1, copy=False)[:,0]"
      ],
      "execution_count": 0,
      "outputs": []
    },
    {
      "cell_type": "code",
      "metadata": {
        "id": "2GzuM3vHGecC",
        "colab_type": "code",
        "outputId": "c13b94d1-7849-444b-a914-ae5e80261f11",
        "colab": {
          "base_uri": "https://localhost:8080/",
          "height": 104
        }
      },
      "source": [
        "pp.binarize(balance[['1 - Balance']], 1, copy=False)[:,0]"
      ],
      "execution_count": 0,
      "outputs": [
        {
          "output_type": "execute_result",
          "data": {
            "text/plain": [
              "array([1, 0, 0, 0, 0, 0, 0, 0, 0, 0, 1, 0, 0, 0, 0, 0, 0, 0, 1, 0, 1, 0,\n",
              "       1, 0, 0, 0, 0, 0, 1, 0, 0, 1, 1, 0, 1, 0, 0, 1, 0, 0, 0, 0, 0, 0,\n",
              "       0, 0, 0, 1, 0, 0, 1, 1, 0, 0, 1, 0, 0, 0, 1, 0, 0, 0, 0, 0, 0, 0,\n",
              "       0, 1, 0, 0, 0, 1, 0, 0, 0, 0, 0, 0, 0, 0, 0, 0, 0, 0, 0, 1, 0, 0,\n",
              "       0, 0, 1, 0, 0, 0, 0, 0, 0, 1, 0, 1])"
            ]
          },
          "metadata": {
            "tags": []
          },
          "execution_count": 16
        }
      ]
    },
    {
      "cell_type": "code",
      "metadata": {
        "id": "vDlvSiJR5E1C",
        "colab_type": "code",
        "outputId": "a88257de-11f7-4810-8d2c-17f610de9746",
        "colab": {
          "base_uri": "https://localhost:8080/",
          "height": 52
        }
      },
      "source": [
        "numcv = 2\n",
        "\n",
        "class MeanEmbeddingVectorizer(object):\n",
        "  def __init__(self, model):\n",
        "    self.model = model\n",
        "\n",
        "    # number of features of a vector\n",
        "    self.dim = len(model.vectors[0])\n",
        "\n",
        "  def fit(self, X, y):\n",
        "    return self\n",
        "\n",
        "  def split(self, text):\n",
        "    return text.split()\n",
        "\n",
        "  def transform(self, X):\n",
        "      return np.array([\n",
        "          np.mean([self.model[w]+self.model['parkinson'] for w in self.split(row) if w in self.model.vocab]\n",
        "                  or [np.zeros(self.dim)], axis=0)\n",
        "          for row in X\n",
        "      ])\n",
        "p = Pipeline([\n",
        "              ('embedding vectorizer', MeanEmbeddingVectorizer(m)),\n",
        "              ('classifier', RandomForestClassifier(n_estimators=100))\n",
        "])\n",
        "scores = cross_val_score(p, balance['Patient Verbatim of problem and how the problem bothers them'], y, cv=numcv, n_jobs=1)\n",
        "print(\"w/ PD Accuracy: %0.2f (+/- %0.2f)\" % (scores.mean(), scores.std() * 2))\n",
        "\n",
        "class MeanEmbeddingVectorizer(object):\n",
        "  def __init__(self, model):\n",
        "    self.model = model\n",
        "\n",
        "    # number of features of a vector\n",
        "    self.dim = len(model.vectors[0])\n",
        "\n",
        "  def fit(self, X, y):\n",
        "    return self\n",
        "\n",
        "  def split(self, text):\n",
        "    return text.split()\n",
        "\n",
        "  def transform(self, X):\n",
        "      return np.array([\n",
        "          np.mean([self.model[w] for w in self.split(row) if w in self.model.vocab]\n",
        "                  or [np.zeros(self.dim)], axis=0)\n",
        "          for row in X\n",
        "      ])\n",
        "p = Pipeline([\n",
        "              ('embedding vectorizer', MeanEmbeddingVectorizer(m)),\n",
        "              ('classifier', RandomForestClassifier(n_estimators=100))\n",
        "])\n",
        "scores = cross_val_score(p, balance['Patient Verbatim of problem and how the problem bothers them'], y, cv=numcv, n_jobs=1)\n",
        "print(\"w/o PD Accuracy: %0.2f (+/- %0.2f)\" % (scores.mean(), scores.std() * 2))"
      ],
      "execution_count": 0,
      "outputs": [
        {
          "output_type": "stream",
          "text": [
            "w/ PD Accuracy: 0.80 (+/- 0.05)\n",
            "w/o PD Accuracy: 0.81 (+/- 0.03)\n"
          ],
          "name": "stdout"
        }
      ]
    },
    {
      "cell_type": "code",
      "metadata": {
        "id": "Sv8jZLmbFKbE",
        "colab_type": "code",
        "outputId": "231a9e98-446f-4799-bf1d-10b98dffd5c5",
        "colab": {
          "base_uri": "https://localhost:8080/",
          "height": 124
        }
      },
      "source": [
        ""
      ],
      "execution_count": 0,
      "outputs": [
        {
          "output_type": "stream",
          "text": [
            "/usr/local/lib/python3.6/dist-packages/sklearn/ensemble/forest.py:245: FutureWarning: The default value of n_estimators will change from 10 in version 0.20 to 100 in 0.22.\n",
            "  \"10 in version 0.20 to 100 in 0.22.\", FutureWarning)\n",
            "/usr/local/lib/python3.6/dist-packages/sklearn/ensemble/forest.py:245: FutureWarning: The default value of n_estimators will change from 10 in version 0.20 to 100 in 0.22.\n",
            "  \"10 in version 0.20 to 100 in 0.22.\", FutureWarning)\n"
          ],
          "name": "stderr"
        },
        {
          "output_type": "stream",
          "text": [
            "Accuracy: 0.80 (+/- 0.05)\n"
          ],
          "name": "stdout"
        }
      ]
    }
  ]
}