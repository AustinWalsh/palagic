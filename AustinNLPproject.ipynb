{
  "nbformat": 4,
  "nbformat_minor": 0,
  "metadata": {
    "colab": {
      "name": "AustinNLPproject.ipynb",
      "provenance": [],
      "include_colab_link": true
    },
    "kernelspec": {
      "name": "python3",
      "display_name": "Python 3"
    }
  },
  "cells": [
    {
      "cell_type": "markdown",
      "metadata": {
        "id": "view-in-github",
        "colab_type": "text"
      },
      "source": [
        "<a href=\"https://colab.research.google.com/github/DataHustler/palagic/blob/master/AustinNLPproject.ipynb\" target=\"_parent\"><img src=\"https://colab.research.google.com/assets/colab-badge.svg\" alt=\"Open In Colab\"/></a>"
      ]
    },
    {
      "cell_type": "markdown",
      "metadata": {
        "id": "ifGAqwycHMuD",
        "colab_type": "text"
      },
      "source": [
        "****"
      ]
    },
    {
      "cell_type": "markdown",
      "metadata": {
        "id": "DMM5vbbZ9rjj",
        "colab_type": "text"
      },
      "source": [
        "# Leveraging NLP and Nursing Notes to Improve Patient Outcomes and Reduce Readmission Rates #\n",
        "\n",
        "In this notebook, I will be using the MIMIC-III dataset to machine learning techniques to analyze the natural languge used in nursing notes to determine is there is a relationship between the notes and the probability of readmission  for for patients with specific conditions within 30 days. The approach is designed to explore if using Natural Language Processing (NLP) techniques on nursing notes could identify the risk of readmission prior to discharge so caregivers could orchestrate interventions and/or adjust the careplan to optimize the patients outcome.  Six condition/procedure-specific 30-day risk-standardized unplanned readmission measures in the program:\n",
        "\n",
        "1.   Acute Myocardial Infarction (AMI)\n",
        "2.   Chronic Obstructive Pulmonary Disease (COPD)\n",
        "3.   Heart Failure (HF)\n",
        "4.   Pneumonia\n",
        "5.   Coronary Artery Bypass Graft (CABG) Surgery\n",
        "6.   Elective Primary Total Hip Athroplasty (THA)\n",
        "7.   Total Knee Arthroplasty (TKA)\n"
      ]
    },
    {
      "cell_type": "markdown",
      "metadata": {
        "id": "-fZmfRHxLMCQ",
        "colab_type": "text"
      },
      "source": [
        "\n",
        "#Pre-processing and data setup\n",
        "\n",
        "In order to get the environment configured to do the analysis, I chose to use [Google Colaboratory](https://colab.research.google.com/notebooks/welcome.ipynb) and [Google BigQuery](https://cloud.google.com/bigquery/). Physionet has enabled the MIMIC-III dataset to be available via BigQuery which significantly reduces the effort to get the data into a queryable state. It allows us to avoid the set-up and configuration of Database's as a service (aka DBaaS) instances of PostgressSQL or cloud IaaS infrastructure to run PostgressSQL. The instructions on how to set up MIMIC on BigQuery can be found [here.](https://mimic.physionet.org/tutorials/intro-to-mimic-iii-bq/)\n",
        "\n",
        "Once you have completed the [required training](https://mimic.physionet.org/gettingstarted/access/), the authorized user can request access to BigQuery from a link in [data-set site](https://physionet.org/content/mimiciii/1.4/) once authenticated. The next step is to is to take the pinned data-set and make that available in your Jupyter notebook. Here is the turtorial on how to connect via the BigQuery API to the CoLab [notebook.](https://tech.aaronteoh.com/bigquery-colaboratory-basics/)\n",
        "\n"
      ]
    },
    {
      "cell_type": "code",
      "metadata": {
        "id": "jz8sbcxwJk6t",
        "colab_type": "code",
        "outputId": "92bc7286-ef67-4a3a-e7e4-f6b4d2e75276",
        "colab": {
          "base_uri": "https://localhost:8080/",
          "height": 34
        }
      },
      "source": [
        "# Connecting and Authenticating Google BigQuery with pinned MIMIC-III authorized dataset to this notebook. \n",
        "\n",
        "from google.colab import auth\n",
        "auth.authenticate_user()\n",
        "print('Authenticated')"
      ],
      "execution_count": 1,
      "outputs": [
        {
          "output_type": "stream",
          "text": [
            "Authenticated\n"
          ],
          "name": "stdout"
        }
      ]
    },
    {
      "cell_type": "code",
      "metadata": {
        "id": "Rh_HgYWeK_XK",
        "colab_type": "code",
        "colab": {}
      },
      "source": [
        "# Once "
      ],
      "execution_count": 0,
      "outputs": []
    },
    {
      "cell_type": "markdown",
      "metadata": {
        "id": "xe6YV3WkHwjM",
        "colab_type": "text"
      },
      "source": [
        "#Creating the dataframe from BigQuery\n",
        "Once connected, we are able to call the BigQueryAPI from the notebook to execute queries agains the MIMIC database. \n",
        "\n",
        "Export a subset of the MIMIC-III dataset that includes core criteria, notably the following:\n",
        "\n",
        "Logic to define what qualifies as a readmit:\n",
        "SUBJECT_ID and ICUSTAY_ID and INTIME is chronologically later than the same (aka matching) SUBJECT_ID with ICUSTAY_ID OUTTIME \n",
        "\n",
        "Example of some readmission rate SQL \n",
        "https://github.com/YaronBlinder/MIMIC-III_readmission/blob/master/notebooks/1_create_dataframe.ipynb"
      ]
    },
    {
      "cell_type": "code",
      "metadata": {
        "id": "2_v1QUC-Xx0E",
        "colab_type": "code",
        "colab": {}
      },
      "source": [
        "#This block of code is using BigQuery to extract those patients who have the following inclusion criteria: is one of the 7 CMS target conditions; is a True Positive for 30day readmission.\n",
        "\n"
      ],
      "execution_count": 0,
      "outputs": []
    },
    {
      "cell_type": "code",
      "metadata": {
        "colab_type": "code",
        "outputId": "7913b1a4-aece-42e7-99c0-14f3f24bc944",
        "id": "slKHx9hkw2YZ",
        "colab": {
          "base_uri": "https://localhost:8080/",
          "height": 68
        }
      },
      "source": [
        "# This query is to determine the first admit time for all patients that are included in the database. Once this is \n",
        "# established as a MIN value, we can do a subsetquent compare for same patient id with the readmit within 30days\n",
        "\n",
        "%%bigquery --project hs619nlp --verbose readmitDF\n",
        "SELECT p.subject_id, a.hadm_id, a.dischtime,\n",
        "    a.admittime, p.expire_flag, a.insurance,\n",
        "    MIN (a.admittime) OVER (PARTITION BY p.subject_id) AS first_admittime\n",
        "FROM `physionet-data.mimiciii_clinical.admissions` a\n",
        "INNER JOIN `physionet-data.mimiciii_clinical.patients` p\n",
        "  ON p.subject_id = a.subject_id"
      ],
      "execution_count": 37,
      "outputs": [
        {
          "output_type": "stream",
          "text": [
            "Executing query with job ID: c387538c-2293-4af4-9ab2-76cd624a4aa4\n",
            "Query executing: 3.95s\n",
            "Query complete after 6.46s\n"
          ],
          "name": "stdout"
        }
      ]
    },
    {
      "cell_type": "code",
      "metadata": {
        "colab_type": "code",
        "outputId": "413d9e2b-43f7-4849-d5eb-35d6c79ffe17",
        "id": "FblbfLoL5xkM",
        "colab": {
          "base_uri": "https://localhost:8080/",
          "height": 68
        }
      },
      "source": [
        "# This query is to create the dataframe with the noteevents. For some reason this is crashing and I can not understand why, perhaps just too big.\n",
        "\n",
        "%%bigquery --project hs619nlp --verbose noteeventsDF\n",
        "SELECT n.subject_id, n.hadm_id, n.TEXT \n",
        "FROM `physionet-data.mimiciii_notes.noteevents` n LIMIT 10000"
      ],
      "execution_count": 4,
      "outputs": [
        {
          "output_type": "stream",
          "text": [
            "Executing query with job ID: 5f611c7c-7aa6-482f-aaa0-e49f83f58c56\n",
            "\rQuery executing: 0.44s\n",
            "Query complete after 0.77s\n"
          ],
          "name": "stdout"
        }
      ]
    },
    {
      "cell_type": "markdown",
      "metadata": {
        "id": "lXNdPQNrBmW-",
        "colab_type": "text"
      },
      "source": [
        "NOTE TO SELF: the above query removed the use of legacy_sql which had the BigQuery API default to standard_sql I leanred this process from this blog post https://tech.aaronteoh.com/bigquery-colaboratory-basics/\n",
        "\n",
        "Originally, I wanted to find a way to call the API and save a csv in Google Drive so I could have a persistent file which would be my source data. I did that manually from the BigQuery interface, but wanted to find a way to make it more repeatable in the jupyter notebook. The query above is creating the 'readmitDF' and allows me to shape that data here in the notebook. \n"
      ]
    },
    {
      "cell_type": "code",
      "metadata": {
        "id": "JIIOXCXUsM06",
        "colab_type": "code",
        "colab": {}
      },
      "source": [
        "# Import libraries\n",
        "import numpy as np\n",
        "import pandas as pd\n",
        "import matplotlib.pyplot as plt"
      ],
      "execution_count": 0,
      "outputs": []
    },
    {
      "cell_type": "code",
      "metadata": {
        "id": "IaFjQ_NuXsX1",
        "colab_type": "code",
        "outputId": "72583216-39f3-437a-c656-9a6b61672395",
        "colab": {
          "base_uri": "https://localhost:8080/",
          "height": 34
        }
      },
      "source": [
        "#This is just a quick way to validate the data that is going into the dataframe to calculate readmissions\n",
        "readmitDF.shape\n"
      ],
      "execution_count": 39,
      "outputs": [
        {
          "output_type": "execute_result",
          "data": {
            "text/plain": [
              "(58976, 7)"
            ]
          },
          "metadata": {
            "tags": []
          },
          "execution_count": 39
        }
      ]
    },
    {
      "cell_type": "code",
      "metadata": {
        "id": "SWrl_PC_6tCt",
        "colab_type": "code",
        "outputId": "3ed8ecb1-651e-481d-bf0e-f8bbcc50a91a",
        "colab": {
          "base_uri": "https://localhost:8080/",
          "height": 34
        }
      },
      "source": [
        "#This is validates the dataframe for NURSING NOTES TEXT\n",
        "noteeventsDF.shape\n"
      ],
      "execution_count": 8,
      "outputs": [
        {
          "output_type": "execute_result",
          "data": {
            "text/plain": [
              "(10000, 3)"
            ]
          },
          "metadata": {
            "tags": []
          },
          "execution_count": 8
        }
      ]
    },
    {
      "cell_type": "code",
      "metadata": {
        "id": "NV2kzMXhxiLz",
        "colab_type": "code",
        "outputId": "dd1a7d6c-1a04-45de-e18f-13fdc850a629",
        "colab": {
          "base_uri": "https://localhost:8080/",
          "height": 204
        }
      },
      "source": [
        "#This block takes the two extracted dataframes and merges them together keying on hadm_ID as that is the patient unique identifier.\n",
        "combinedNotesRedadmit= pd.merge(noteeventsDF, readmitDF, on='hadm_id', how='outer')\n",
        "combinedNotesRedadmit.head()\n",
        "combinedNotesRedadmit['lenghtofstay'] = combinedNotesRedadmit['dischtime'] - combinedNotesRedadmit['admittime']\n",
        "combinedNotesRedadmit.head()"
      ],
      "execution_count": 40,
      "outputs": [
        {
          "output_type": "execute_result",
          "data": {
            "text/html": [
              "<div>\n",
              "<style scoped>\n",
              "    .dataframe tbody tr th:only-of-type {\n",
              "        vertical-align: middle;\n",
              "    }\n",
              "\n",
              "    .dataframe tbody tr th {\n",
              "        vertical-align: top;\n",
              "    }\n",
              "\n",
              "    .dataframe thead th {\n",
              "        text-align: right;\n",
              "    }\n",
              "</style>\n",
              "<table border=\"1\" class=\"dataframe\">\n",
              "  <thead>\n",
              "    <tr style=\"text-align: right;\">\n",
              "      <th></th>\n",
              "      <th>subject_id_x</th>\n",
              "      <th>hadm_id</th>\n",
              "      <th>TEXT</th>\n",
              "      <th>subject_id_y</th>\n",
              "      <th>dischtime</th>\n",
              "      <th>admittime</th>\n",
              "      <th>expire_flag</th>\n",
              "      <th>insurance</th>\n",
              "      <th>first_admittime</th>\n",
              "      <th>lenghtofstay</th>\n",
              "    </tr>\n",
              "  </thead>\n",
              "  <tbody>\n",
              "    <tr>\n",
              "      <th>0</th>\n",
              "      <td>86918.0</td>\n",
              "      <td>135138.0</td>\n",
              "      <td>TITLE:\\n   CVICU\\n   HPI:\\n   66F s/p MVR(#31 ...</td>\n",
              "      <td>86918.0</td>\n",
              "      <td>2138-12-19 17:04:00</td>\n",
              "      <td>2138-12-02 16:09:00</td>\n",
              "      <td>0.0</td>\n",
              "      <td>Medicare</td>\n",
              "      <td>2138-12-02 16:09:00</td>\n",
              "      <td>17 days 00:55:00</td>\n",
              "    </tr>\n",
              "    <tr>\n",
              "      <th>1</th>\n",
              "      <td>99637.0</td>\n",
              "      <td>198033.0</td>\n",
              "      <td>CVICU\\n   HPI:\\n   61M s/p AVR (29mm [**Compan...</td>\n",
              "      <td>99637.0</td>\n",
              "      <td>2116-05-23 13:40:00</td>\n",
              "      <td>2116-05-18 07:15:00</td>\n",
              "      <td>0.0</td>\n",
              "      <td>Private</td>\n",
              "      <td>2116-05-18 07:15:00</td>\n",
              "      <td>5 days 06:25:00</td>\n",
              "    </tr>\n",
              "    <tr>\n",
              "      <th>2</th>\n",
              "      <td>70373.0</td>\n",
              "      <td>149123.0</td>\n",
              "      <td>TITLE:\\n   CVICU\\n   HPI:\\n   HD2\\n   67 yo s/...</td>\n",
              "      <td>70373.0</td>\n",
              "      <td>2115-12-31 15:05:00</td>\n",
              "      <td>2115-12-26 20:58:00</td>\n",
              "      <td>1.0</td>\n",
              "      <td>Private</td>\n",
              "      <td>2115-12-26 20:58:00</td>\n",
              "      <td>4 days 18:07:00</td>\n",
              "    </tr>\n",
              "    <tr>\n",
              "      <th>3</th>\n",
              "      <td>58261.0</td>\n",
              "      <td>144662.0</td>\n",
              "      <td>CVICU\\n   HPI:\\n   HD12\\n   [**3-27**] POD 1\\n...</td>\n",
              "      <td>58261.0</td>\n",
              "      <td>2111-04-03 13:00:00</td>\n",
              "      <td>2111-03-16 17:41:00</td>\n",
              "      <td>0.0</td>\n",
              "      <td>Medicare</td>\n",
              "      <td>2111-03-16 17:41:00</td>\n",
              "      <td>17 days 19:19:00</td>\n",
              "    </tr>\n",
              "    <tr>\n",
              "      <th>4</th>\n",
              "      <td>76501.0</td>\n",
              "      <td>188262.0</td>\n",
              "      <td>TITLE:\\n   CVICU\\n   HPI:\\n   [**12-26**] POD ...</td>\n",
              "      <td>76501.0</td>\n",
              "      <td>2154-12-29 15:15:00</td>\n",
              "      <td>2154-12-25 13:00:00</td>\n",
              "      <td>0.0</td>\n",
              "      <td>Medicaid</td>\n",
              "      <td>2154-12-25 13:00:00</td>\n",
              "      <td>4 days 02:15:00</td>\n",
              "    </tr>\n",
              "  </tbody>\n",
              "</table>\n",
              "</div>"
            ],
            "text/plain": [
              "   subject_id_x   hadm_id  ...     first_admittime     lenghtofstay\n",
              "0       86918.0  135138.0  ... 2138-12-02 16:09:00 17 days 00:55:00\n",
              "1       99637.0  198033.0  ... 2116-05-18 07:15:00  5 days 06:25:00\n",
              "2       70373.0  149123.0  ... 2115-12-26 20:58:00  4 days 18:07:00\n",
              "3       58261.0  144662.0  ... 2111-03-16 17:41:00 17 days 19:19:00\n",
              "4       76501.0  188262.0  ... 2154-12-25 13:00:00  4 days 02:15:00\n",
              "\n",
              "[5 rows x 10 columns]"
            ]
          },
          "metadata": {
            "tags": []
          },
          "execution_count": 40
        }
      ]
    },
    {
      "cell_type": "code",
      "metadata": {
        "id": "vhZtFFVIBqWP",
        "colab_type": "code",
        "colab": {
          "base_uri": "https://localhost:8080/",
          "height": 204
        },
        "outputId": "08671b4f-3018-41e0-edcf-691d16a7a669"
      },
      "source": [
        "combinedNotesRedadmit['returned'] = combinedNotesRedadmit['admittime'] > combinedNotesRedadmit['dischtime']\n",
        "combinedNotesRedadmit.head()\n"
      ],
      "execution_count": 42,
      "outputs": [
        {
          "output_type": "execute_result",
          "data": {
            "text/html": [
              "<div>\n",
              "<style scoped>\n",
              "    .dataframe tbody tr th:only-of-type {\n",
              "        vertical-align: middle;\n",
              "    }\n",
              "\n",
              "    .dataframe tbody tr th {\n",
              "        vertical-align: top;\n",
              "    }\n",
              "\n",
              "    .dataframe thead th {\n",
              "        text-align: right;\n",
              "    }\n",
              "</style>\n",
              "<table border=\"1\" class=\"dataframe\">\n",
              "  <thead>\n",
              "    <tr style=\"text-align: right;\">\n",
              "      <th></th>\n",
              "      <th>subject_id_x</th>\n",
              "      <th>hadm_id</th>\n",
              "      <th>TEXT</th>\n",
              "      <th>subject_id_y</th>\n",
              "      <th>dischtime</th>\n",
              "      <th>admittime</th>\n",
              "      <th>expire_flag</th>\n",
              "      <th>insurance</th>\n",
              "      <th>first_admittime</th>\n",
              "      <th>lenghtofstay</th>\n",
              "      <th>returned</th>\n",
              "    </tr>\n",
              "  </thead>\n",
              "  <tbody>\n",
              "    <tr>\n",
              "      <th>0</th>\n",
              "      <td>86918.0</td>\n",
              "      <td>135138.0</td>\n",
              "      <td>TITLE:\\n   CVICU\\n   HPI:\\n   66F s/p MVR(#31 ...</td>\n",
              "      <td>86918.0</td>\n",
              "      <td>2138-12-19 17:04:00</td>\n",
              "      <td>2138-12-02 16:09:00</td>\n",
              "      <td>0.0</td>\n",
              "      <td>Medicare</td>\n",
              "      <td>2138-12-02 16:09:00</td>\n",
              "      <td>17 days 00:55:00</td>\n",
              "      <td>False</td>\n",
              "    </tr>\n",
              "    <tr>\n",
              "      <th>1</th>\n",
              "      <td>99637.0</td>\n",
              "      <td>198033.0</td>\n",
              "      <td>CVICU\\n   HPI:\\n   61M s/p AVR (29mm [**Compan...</td>\n",
              "      <td>99637.0</td>\n",
              "      <td>2116-05-23 13:40:00</td>\n",
              "      <td>2116-05-18 07:15:00</td>\n",
              "      <td>0.0</td>\n",
              "      <td>Private</td>\n",
              "      <td>2116-05-18 07:15:00</td>\n",
              "      <td>5 days 06:25:00</td>\n",
              "      <td>False</td>\n",
              "    </tr>\n",
              "    <tr>\n",
              "      <th>2</th>\n",
              "      <td>70373.0</td>\n",
              "      <td>149123.0</td>\n",
              "      <td>TITLE:\\n   CVICU\\n   HPI:\\n   HD2\\n   67 yo s/...</td>\n",
              "      <td>70373.0</td>\n",
              "      <td>2115-12-31 15:05:00</td>\n",
              "      <td>2115-12-26 20:58:00</td>\n",
              "      <td>1.0</td>\n",
              "      <td>Private</td>\n",
              "      <td>2115-12-26 20:58:00</td>\n",
              "      <td>4 days 18:07:00</td>\n",
              "      <td>False</td>\n",
              "    </tr>\n",
              "    <tr>\n",
              "      <th>3</th>\n",
              "      <td>58261.0</td>\n",
              "      <td>144662.0</td>\n",
              "      <td>CVICU\\n   HPI:\\n   HD12\\n   [**3-27**] POD 1\\n...</td>\n",
              "      <td>58261.0</td>\n",
              "      <td>2111-04-03 13:00:00</td>\n",
              "      <td>2111-03-16 17:41:00</td>\n",
              "      <td>0.0</td>\n",
              "      <td>Medicare</td>\n",
              "      <td>2111-03-16 17:41:00</td>\n",
              "      <td>17 days 19:19:00</td>\n",
              "      <td>False</td>\n",
              "    </tr>\n",
              "    <tr>\n",
              "      <th>4</th>\n",
              "      <td>76501.0</td>\n",
              "      <td>188262.0</td>\n",
              "      <td>TITLE:\\n   CVICU\\n   HPI:\\n   [**12-26**] POD ...</td>\n",
              "      <td>76501.0</td>\n",
              "      <td>2154-12-29 15:15:00</td>\n",
              "      <td>2154-12-25 13:00:00</td>\n",
              "      <td>0.0</td>\n",
              "      <td>Medicaid</td>\n",
              "      <td>2154-12-25 13:00:00</td>\n",
              "      <td>4 days 02:15:00</td>\n",
              "      <td>False</td>\n",
              "    </tr>\n",
              "  </tbody>\n",
              "</table>\n",
              "</div>"
            ],
            "text/plain": [
              "   subject_id_x   hadm_id  ...     lenghtofstay  returned\n",
              "0       86918.0  135138.0  ... 17 days 00:55:00     False\n",
              "1       99637.0  198033.0  ...  5 days 06:25:00     False\n",
              "2       70373.0  149123.0  ...  4 days 18:07:00     False\n",
              "3       58261.0  144662.0  ... 17 days 19:19:00     False\n",
              "4       76501.0  188262.0  ...  4 days 02:15:00     False\n",
              "\n",
              "[5 rows x 11 columns]"
            ]
          },
          "metadata": {
            "tags": []
          },
          "execution_count": 42
        }
      ]
    },
    {
      "cell_type": "code",
      "metadata": {
        "id": "fIE6xSCTHliy",
        "colab_type": "code",
        "colab": {
          "base_uri": "https://localhost:8080/",
          "height": 204
        },
        "outputId": "f3f9302c-8289-474a-ea58-4607bc87ebb4"
      },
      "source": [
        "positiveReadmitRows = combinedNotesRedadmit['insurance'] == \"Medicare\"\n",
        "positiveReadmitRows = combinedNotesRedadmit['insurance'] == \"Medicaid\"\n",
        "positiveReadmitRows = combinedNotesRedadmit['returned'] == True\n",
        "positiveReadmit = combinedNotesRedadmit[positiveReadmitRows]\n",
        "positiveReadmit.head()\n"
      ],
      "execution_count": 55,
      "outputs": [
        {
          "output_type": "execute_result",
          "data": {
            "text/html": [
              "<div>\n",
              "<style scoped>\n",
              "    .dataframe tbody tr th:only-of-type {\n",
              "        vertical-align: middle;\n",
              "    }\n",
              "\n",
              "    .dataframe tbody tr th {\n",
              "        vertical-align: top;\n",
              "    }\n",
              "\n",
              "    .dataframe thead th {\n",
              "        text-align: right;\n",
              "    }\n",
              "</style>\n",
              "<table border=\"1\" class=\"dataframe\">\n",
              "  <thead>\n",
              "    <tr style=\"text-align: right;\">\n",
              "      <th></th>\n",
              "      <th>subject_id_x</th>\n",
              "      <th>hadm_id</th>\n",
              "      <th>TEXT</th>\n",
              "      <th>subject_id_y</th>\n",
              "      <th>dischtime</th>\n",
              "      <th>admittime</th>\n",
              "      <th>expire_flag</th>\n",
              "      <th>insurance</th>\n",
              "      <th>first_admittime</th>\n",
              "      <th>lenghtofstay</th>\n",
              "      <th>returned</th>\n",
              "    </tr>\n",
              "  </thead>\n",
              "  <tbody>\n",
              "    <tr>\n",
              "      <th>763</th>\n",
              "      <td>28760.0</td>\n",
              "      <td>168303.0</td>\n",
              "      <td>Atrial fibrillation with slow ventricular resp...</td>\n",
              "      <td>28760.0</td>\n",
              "      <td>2167-01-14 12:00:00</td>\n",
              "      <td>2167-01-14 13:29:00</td>\n",
              "      <td>1.0</td>\n",
              "      <td>Medicare</td>\n",
              "      <td>2167-01-14 13:29:00</td>\n",
              "      <td>-1 days +22:31:00</td>\n",
              "      <td>True</td>\n",
              "    </tr>\n",
              "    <tr>\n",
              "      <th>1485</th>\n",
              "      <td>7094.0</td>\n",
              "      <td>180859.0</td>\n",
              "      <td>Normal sinus rhythm, rate 80. Non-specific ant...</td>\n",
              "      <td>7094.0</td>\n",
              "      <td>2182-08-19 12:00:00</td>\n",
              "      <td>2182-08-19 16:35:00</td>\n",
              "      <td>0.0</td>\n",
              "      <td>Self Pay</td>\n",
              "      <td>2176-11-29 18:04:00</td>\n",
              "      <td>-1 days +19:25:00</td>\n",
              "      <td>True</td>\n",
              "    </tr>\n",
              "    <tr>\n",
              "      <th>1870</th>\n",
              "      <td>21272.0</td>\n",
              "      <td>156385.0</td>\n",
              "      <td>Normal sinus rhythm. Since the previous tracin...</td>\n",
              "      <td>21272.0</td>\n",
              "      <td>2162-09-25 01:23:00</td>\n",
              "      <td>2162-09-25 07:36:00</td>\n",
              "      <td>1.0</td>\n",
              "      <td>Medicare</td>\n",
              "      <td>2162-09-25 07:36:00</td>\n",
              "      <td>-1 days +17:47:00</td>\n",
              "      <td>True</td>\n",
              "    </tr>\n",
              "    <tr>\n",
              "      <th>2559</th>\n",
              "      <td>21033.0</td>\n",
              "      <td>188125.0</td>\n",
              "      <td>Normal sinus rhythm\\nLeft atrial abnormality\\n...</td>\n",
              "      <td>21033.0</td>\n",
              "      <td>2180-11-07 05:20:00</td>\n",
              "      <td>2180-11-07 18:32:00</td>\n",
              "      <td>1.0</td>\n",
              "      <td>Medicare</td>\n",
              "      <td>2180-11-07 18:32:00</td>\n",
              "      <td>-1 days +10:48:00</td>\n",
              "      <td>True</td>\n",
              "    </tr>\n",
              "    <tr>\n",
              "      <th>10209</th>\n",
              "      <td>NaN</td>\n",
              "      <td>102631.0</td>\n",
              "      <td>NaN</td>\n",
              "      <td>181.0</td>\n",
              "      <td>2153-10-12 06:29:00</td>\n",
              "      <td>2153-10-12 09:49:00</td>\n",
              "      <td>1.0</td>\n",
              "      <td>Private</td>\n",
              "      <td>2153-10-12 09:49:00</td>\n",
              "      <td>-1 days +20:40:00</td>\n",
              "      <td>True</td>\n",
              "    </tr>\n",
              "  </tbody>\n",
              "</table>\n",
              "</div>"
            ],
            "text/plain": [
              "       subject_id_x   hadm_id  ...      lenghtofstay  returned\n",
              "763         28760.0  168303.0  ... -1 days +22:31:00      True\n",
              "1485         7094.0  180859.0  ... -1 days +19:25:00      True\n",
              "1870        21272.0  156385.0  ... -1 days +17:47:00      True\n",
              "2559        21033.0  188125.0  ... -1 days +10:48:00      True\n",
              "10209           NaN  102631.0  ... -1 days +20:40:00      True\n",
              "\n",
              "[5 rows x 11 columns]"
            ]
          },
          "metadata": {
            "tags": []
          },
          "execution_count": 55
        }
      ]
    },
    {
      "cell_type": "code",
      "metadata": {
        "id": "Ubas8_4ZIf6Q",
        "colab_type": "code",
        "colab": {
          "base_uri": "https://localhost:8080/",
          "height": 34
        },
        "outputId": "1aacd832-8362-472f-a0f1-7128c2c3a3d1"
      },
      "source": [
        "positiveReadmit.shape"
      ],
      "execution_count": 56,
      "outputs": [
        {
          "output_type": "execute_result",
          "data": {
            "text/plain": [
              "(98, 11)"
            ]
          },
          "metadata": {
            "tags": []
          },
          "execution_count": 56
        }
      ]
    },
    {
      "cell_type": "code",
      "metadata": {
        "id": "Q2YAf4ctJywm",
        "colab_type": "code",
        "colab": {
          "base_uri": "https://localhost:8080/",
          "height": 319
        },
        "outputId": "2e77e8df-8e47-4fdc-d4ca-14c8bbff27ee"
      },
      "source": [
        "# pie chart to show readmit of the total number of HADM_id's\n",
        "fig = plt.figure(figsize=(5,5))\n",
        "combinedNotesRedadmit.returned.value_counts().plot.pie(startangle = 0, autopct='%1.1f%%')\n",
        "plt.title('Readmission Rate, raw data')\n",
        "plt.ylabel('')\n",
        "fig.savefig('readmissionChart.png')"
      ],
      "execution_count": 36,
      "outputs": [
        {
          "output_type": "display_data",
          "data": {
            "image/png": "[encoded data removed]",
            "text/plain": [
              "<Figure size 360x360 with 1 Axes>"
            ]
          },
          "metadata": {
            "tags": []
          }
        }
      ]
    },
    {
      "cell_type": "markdown",
      "metadata": {
        "id": "hX_bFdrfku-g",
        "colab_type": "text"
      },
      "source": [
        "#Setting up fast.ai\n",
        "The project will utilize the fast.ai so we need to set that up in this notebook to use that. In addition, it is important to note that one needs to adjust the runtime to leverage GPU accelerators to execute this code. You can read about getting that set up here: https://course.fast.ai/start_colab.html\n"
      ]
    },
    {
      "cell_type": "code",
      "metadata": {
        "id": "gOSOjlLpkr9t",
        "colab_type": "code",
        "outputId": "a1dcfb18-d018-4317-c939-3b56b623ef04",
        "colab": {
          "base_uri": "https://localhost:8080/",
          "height": 51
        }
      },
      "source": [
        " #This is the line of code that sets up fast.ai in this notebook\n",
        " !curl -s https://course.fast.ai/setup/colab | bash"
      ],
      "execution_count": 0,
      "outputs": [
        {
          "output_type": "stream",
          "text": [
            "Updating fastai...\n",
            "Done.\n"
          ],
          "name": "stdout"
        }
      ]
    },
    {
      "cell_type": "code",
      "metadata": {
        "id": "Zpl96VXTGvUZ",
        "colab_type": "code",
        "colab": {}
      },
      "source": [
        "#Next we need to import the libraries that will be used for some of the analysis\n",
        "\n",
        "import numpy as np\n",
        "import pandas as pd\n",
        "from sklearn.model_selection import train_test_split\n",
        "import uuid\n"
      ],
      "execution_count": 0,
      "outputs": []
    },
    {
      "cell_type": "markdown",
      "metadata": {
        "id": "uaTDhTDzF-rB",
        "colab_type": "text"
      },
      "source": [
        "Once an Ngram is done then there are ways to do topic modeling; this is an unsupervised method to do clustering of information"
      ]
    }
  ]
}